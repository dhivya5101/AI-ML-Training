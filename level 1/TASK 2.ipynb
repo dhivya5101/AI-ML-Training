{
 "cells": [
  {
   "cell_type": "code",
   "execution_count": 17,
   "id": "4ed9d987-9bda-49f9-aa22-ab94be8545cf",
   "metadata": {},
   "outputs": [
    {
     "ename": "TypeError",
     "evalue": "'builtin_function_or_method' object is not subscriptable",
     "output_type": "error",
     "traceback": [
      "\u001b[1;31m---------------------------------------------------------------------------\u001b[0m",
      "\u001b[1;31mTypeError\u001b[0m                                 Traceback (most recent call last)",
      "Cell \u001b[1;32mIn[17], line 2\u001b[0m\n\u001b[0;32m      1\u001b[0m \u001b[38;5;28mlist\u001b[39m\u001b[38;5;241m=\u001b[39m[\u001b[38;5;241m1\u001b[39m,\u001b[38;5;241m2\u001b[39m,\u001b[38;5;241m3\u001b[39m]\n\u001b[1;32m----> 2\u001b[0m \u001b[38;5;28mlist\u001b[39m\u001b[38;5;241m.\u001b[39mappend[\u001b[38;5;241m4\u001b[39m]\n\u001b[0;32m      3\u001b[0m \u001b[38;5;28mset\u001b[39m\u001b[38;5;241m=\u001b[39m{\u001b[38;5;241m2\u001b[39m,\u001b[38;5;241m4\u001b[39m,\u001b[38;5;241m6\u001b[39m}\n\u001b[0;32m      4\u001b[0m \u001b[38;5;28mtuple\u001b[39m\u001b[38;5;241m=\u001b[39m{\u001b[38;5;241m1\u001b[39m,\u001b[38;5;241m3\u001b[39m,\u001b[38;5;241m5\u001b[39m}\n",
      "\u001b[1;31mTypeError\u001b[0m: 'builtin_function_or_method' object is not subscriptable"
     ]
    }
   ],
   "source": [
    "list=[1,2,3]\n",
    "list.append[4]\n",
    "set={2,4,6}\n",
    "tuple={1,3,5}\n",
    "dict={\"dhivya\":20,\"nisha\":21}\n",
    "dict[\"kayal\"]=18\n",
    "print(a)\n",
    "print(set)\n",
    "print(tuple)\n",
    "print(dict)"
   ]
  },
  {
   "cell_type": "code",
   "execution_count": null,
   "id": "8bba01fd-2728-46a8-9838-6fd4a8135447",
   "metadata": {},
   "outputs": [],
   "source": []
  }
 ],
 "metadata": {
  "kernelspec": {
   "display_name": "Python 3 (ipykernel)",
   "language": "python",
   "name": "python3"
  },
  "language_info": {
   "codemirror_mode": {
    "name": "ipython",
    "version": 3
   },
   "file_extension": ".py",
   "mimetype": "text/x-python",
   "name": "python",
   "nbconvert_exporter": "python",
   "pygments_lexer": "ipython3",
   "version": "3.12.7"
  }
 },
 "nbformat": 4,
 "nbformat_minor": 5
}
